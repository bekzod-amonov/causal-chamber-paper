{
 "cells": [
  {
   "cell_type": "markdown",
   "metadata": {},
   "source": [
    "# Case Study: Change Point Detection\n",
    "\n",
    "**Figure 5c**"
   ]
  },
  {
   "cell_type": "markdown",
   "metadata": {},
   "source": [
    "Directory to store the downloaded causal chamber datasets."
   ]
  },
  {
   "cell_type": "code",
   "execution_count": 1,
   "metadata": {},
   "outputs": [],
   "source": [
    "DOWNLOAD_DIR = '/tmp'"
   ]
  },
  {
   "cell_type": "code",
   "execution_count": 2,
   "metadata": {},
   "outputs": [],
   "source": [
    "import sys\n",
    "sys.path = ['../'] + sys.path"
   ]
  },
  {
   "cell_type": "code",
   "execution_count": 3,
   "metadata": {},
   "outputs": [],
   "source": [
    "%load_ext autoreload\n",
    "%autoreload 2"
   ]
  },
  {
   "cell_type": "code",
   "execution_count": 4,
   "metadata": {},
   "outputs": [],
   "source": [
    "import numpy as np\n",
    "import matplotlib.pyplot as plt\n",
    "import matplotlib\n",
    "import pandas as pd\n",
    "import changeforest"
   ]
  },
  {
   "cell_type": "markdown",
   "metadata": {},
   "source": [
    "## Auxiliary functions\n",
    "\n",
    "### Plotting"
   ]
  },
  {
   "cell_type": "code",
   "execution_count": 5,
   "metadata": {},
   "outputs": [],
   "source": [
    "matplotlib.rc('text', usetex = True)\n",
    "matplotlib.rc('font', **{'family' : \"sans-serif\"})\n",
    "plt.rc('text.latex', preamble=r'\\usepackage{amsmath}')\n",
    "\n",
    "matplotlib.rcParams.update({'font.size': 7})\n",
    "MM = 1/25.4 # inches to mm"
   ]
  },
  {
   "cell_type": "code",
   "execution_count": 6,
   "metadata": {},
   "outputs": [],
   "source": [
    "colors = np.array([(12,234,217), (58,202,223), (114,158,253), (138,100,214), (92,58,146)])"
   ]
  },
  {
   "cell_type": "code",
   "execution_count": 7,
   "metadata": {},
   "outputs": [
    {
     "data": {
      "image/png": "[encoded data removed]",
      "text/plain": [
       "<Figure size 640x480 with 1 Axes>"
      ]
     },
     "metadata": {},
     "output_type": "display_data"
    }
   ],
   "source": [
    "def to_rgb(H, b=1, a=1):\n",
    "    RGBa = []\n",
    "    for h in H:\n",
    "        h = h.lstrip(\"#\")\n",
    "        RGBa.append(tuple(int(h[i:i+2], 16) / 256 * b for i in (0, 2, 4)) + (a,))\n",
    "    return np.array(RGBa)\n",
    "\n",
    "# Color palettes\n",
    "color_blind_1 = ['#d73027', '#fc8d59', '#fee090', '#91bfdb', '#4575b4', '#020202',]\n",
    "color_blind_2 = ['#b2182b', '#d6604d', '#f4a582', '#fddbc7', '#d1e5f0', '#92c5de', '#4393c3', '#2166ac']\n",
    "color_blind_3 = ['#8c510a', '#bf812d', '#dfc27d', '#f6e8c3', '#c7eae5', '#80cdc1', '#35978f', '#01665e']\n",
    "ibm_color_blind = [\"#648fff\", \"#785ef0\", \"#dc267f\", \"#fe6100\", \"#ffb000\", \"#000000\", \"#ffffff\"]\n",
    "rainbow10 = [\"#ff4365\", \"#ffdd43\", \"#59ff43\", \"#43ffdd\", \"#7395ff\", \"#4365ff\", \"#e943ff\", \"#601e9e\", \"#6a6a6a\", \"#964b00\"]\n",
    "\n",
    "\n",
    "# Pick one and show\n",
    "\n",
    "palette = ibm_color_blind\n",
    "\n",
    "base = to_rgb(palette)\n",
    "basea = to_rgb(palette, a=0.5)\n",
    "baseb = to_rgb(palette, b=0.7)\n",
    "plt.scatter(np.arange(len(base)), np.zeros(len(base)), c = base)\n",
    "plt.scatter(np.arange(len(base)), np.ones(len(base))*0.5, c = basea)\n",
    "plt.scatter(np.arange(len(base)), np.ones(len(base))*-0.5, c = baseb)\n",
    "\n",
    "def hex_to_RGB(hex_str):\n",
    "    \"\"\" #FFFFFF -> [255,255,255]\"\"\"\n",
    "    #Pass 16 to the integer function for change of base\n",
    "    return [int(hex_str[i:i+2], 16) for i in range(1,6,2)]\n",
    "\n",
    "def get_color_gradient(c1, c2, n):\n",
    "    \"\"\"\n",
    "    Given two hex colors, returns a color gradient\n",
    "    with n colors.\n",
    "    \"\"\"\n",
    "    assert n > 1\n",
    "    c1_rgb = np.array(hex_to_RGB(c1))/255\n",
    "    c2_rgb = np.array(hex_to_RGB(c2))/255\n",
    "    mix_pcts = [x/(n-1) for x in range(n)]\n",
    "    rgb_colors = [((1-mix)*c1_rgb + (mix*c2_rgb)) for mix in mix_pcts]\n",
    "    return [\"#\" + \"\".join([format(int(round(val*255)), \"02x\") for val in item]) for item in rgb_colors]"
   ]
  },
  {
   "cell_type": "code",
   "execution_count": 8,
   "metadata": {},
   "outputs": [],
   "source": [
    "def norm(x):\n",
    "    xx = x - x.min()\n",
    "    return xx / xx.max()"
   ]
  },
  {
   "cell_type": "markdown",
   "metadata": {},
   "source": [
    "## Task: recover change points from wind tunnel time-series"
   ]
  },
  {
   "cell_type": "markdown",
   "metadata": {},
   "source": [
    "### Load dataset"
   ]
  },
  {
   "cell_type": "code",
   "execution_count": 9,
   "metadata": {},
   "outputs": [
    {
     "name": "stdout",
     "output_type": "stream",
     "text": [
      "\n",
      "Fetching list of available datasets from https://causalchamber.s3.eu-central-1.amazonaws.com/downloadables/directory.yaml ... done.\n",
      "If you use our datasets or models for your work please consider citing:\n",
      "\n",
      "@article{gamella2024chamber,\n",
      "  title={The Causal Chambers: Real Physical Systems as a Testbed for AI Methodology},\n",
      "  author={Gamella, Juan L. and B\"uhlmann, Peter and Peters, Jonas},\n",
      "  journal={arXiv preprint arXiv:2404.11341},\n",
      "  year={2024}\n",
      "}\n",
      "\n",
      "Downloading dataset from \"https://causalchamber.s3.eu-central-1.amazonaws.com/downloadables/wt_changepoints_v1.zip\" into \"/tmp/causal_chamber_9dabed05c0b6c0858da811eefd662d91.zip\"\n",
      "\n"
     ]
    },
    {
     "name": "stderr",
     "output_type": "stream",
     "text": [
      "100%|█████████████████████████████████████████████████████████████████████████████████████████████████████████████████████████████████████████████████████████████████████████████████████████████████████████████████████████████████████████████████████████████| 739k/739k [00:00<00:00, 6.22MiB/s]"
     ]
    },
    {
     "name": "stdout",
     "output_type": "stream",
     "text": [
      "  Verifying checksum... done.\n",
      "  Extracting zip-file contents to \"/tmp\"... done.\n"
     ]
    },
    {
     "name": "stderr",
     "output_type": "stream",
     "text": [
      "\n"
     ]
    },
    {
     "data": {
      "text/plain": [
       "['load_in_seed_4',\n",
       " 'load_in_seed_3',\n",
       " 'load_in_seed_7',\n",
       " 'load_in_seed_9',\n",
       " 'load_in_seed_8',\n",
       " 'load_in_seed_6',\n",
       " 'load_in_seed_2',\n",
       " 'load_in_seed_5',\n",
       " 'load_in_seed_1',\n",
       " 'load_in_seed_0']"
      ]
     },
     "execution_count": 9,
     "metadata": {},
     "output_type": "execute_result"
    }
   ],
   "source": [
    "#from causalchamber import datasets\n",
    "from causalchamber.datasets import Dataset\n",
    "dataset = Dataset(\"wt_changepoints_v1\", root=DOWNLOAD_DIR)\n",
    "dataset.available_experiments()"
   ]
  },
  {
   "cell_type": "code",
   "execution_count": 10,
   "metadata": {},
   "outputs": [],
   "source": [
    "df = dataset.get_experiment('load_in_seed_9').as_pandas_dataframe()"
   ]
  },
  {
   "cell_type": "markdown",
   "metadata": {},
   "source": [
    "### Apply the changeforest algorithm [1] and plot results"
   ]
  },
  {
   "cell_type": "code",
   "execution_count": 11,
   "metadata": {},
   "outputs": [],
   "source": [
    "from changeforest import changeforest\n",
    "def forest_estimate(X):\n",
    "    result = changeforest(np.atleast_2d(X).T, \"random_forest\", \"bs\")\n",
    "    return result.split_points()"
   ]
  },
  {
   "cell_type": "code",
   "execution_count": 12,
   "metadata": {},
   "outputs": [
    {
     "data": {
      "image/png": "[encoded data removed]",
      "text/plain": [
       "<Figure size 551.181x236.22 with 1 Axes>"
      ]
     },
     "metadata": {},
     "output_type": "display_data"
    }
   ],
   "source": [
    "#df = pd.read_csv(\"/home/juan/ETH/causal_room/datasets/wt_changepoints/data/2023_12_28-23_05_25_wt_load_in_seed_9.csv\")\n",
    "\n",
    "plt.figure(figsize=(140*MM,60*MM))\n",
    "\n",
    "d = 1.5\n",
    "ms = 30\n",
    "\n",
    "changepoints = list(df[df.intervention==1].index)\n",
    "for j,p in enumerate(changepoints):\n",
    "    plt.axvline(p, color='gray', linestyle=':', label=r\"Actuator ($L_\\text{in}$)\"+\"\\nchange point \" if j == 0 else None)\n",
    "\n",
    "# Applied to load_in\n",
    "X = df.load_in\n",
    "plt.plot(X, color='gray')\n",
    "estimate = forest_estimate(X)\n",
    "plt.scatter(estimate,X[estimate],marker='x',color='black',zorder=10,s=ms)\n",
    "\n",
    "# Applied to rpm_in\n",
    "i = 1\n",
    "X = df.rpm_in\n",
    "plt.plot(norm(X)-d*i, color=base[i-1])\n",
    "estimate = forest_estimate(X)\n",
    "plt.scatter(estimate,norm(X)[estimate]-d*i,marker='x',color='black',zorder=10,s=ms)\n",
    "\n",
    "# Applied to pressure_downwind - pressure_ambient\n",
    "i = 2\n",
    "X = df.pressure_downwind-df.pressure_ambient\n",
    "plt.plot(norm(X)-d*i, color=base[i-1])\n",
    "estimate = forest_estimate(X)\n",
    "plt.scatter(estimate,norm(X)[estimate]-d*i,marker='x',color='black',zorder=10,s=ms)\n",
    "\n",
    "# Applied to current_in\n",
    "i = 3\n",
    "X = df.current_in\n",
    "plt.plot(norm(X)-d*i, color=base[i-1])\n",
    "estimate = forest_estimate(X)\n",
    "plt.scatter(estimate,norm(X)[estimate]-d*i,marker='x',color='black',zorder=10,s=ms)\n",
    "\n",
    "# Applied to mic\n",
    "i = 4\n",
    "X = df.mic\n",
    "plt.plot(norm(X)-d*i, color=base[i-1])\n",
    "estimate = forest_estimate(X)\n",
    "plt.scatter(estimate,norm(X)[estimate]-d*i,marker='x',color='black',zorder=10,label=\"Changeforest\\nestimate\",s=ms)\n",
    "\n",
    "labels = [r'$L_\\text{in}$',\n",
    "          r'$\\tilde{\\omega}_\\text{in}$',\n",
    "          r'$\\tilde{P}_\\text{dw} - \\tilde{P}_\\text{amb}$',\n",
    "          r'$\\tilde{C}_\\text{in}$',\n",
    "          r'$\\tilde{M}$',\n",
    "         ]\n",
    "plt.yticks(-d * np.arange(5) + 0.3, labels)\n",
    "plt.xlabel(\"Time index $t$\")\n",
    "plt.legend(bbox_to_anchor=(1,1.05), loc=\"upper left\", ncol=1)\n",
    "plt.ylim([-4.2*d,d*1.1])\n",
    "plt.savefig(\"../figures/changepoints.pdf\", bbox_inches=\"tight\")"
   ]
  },
  {
   "cell_type": "markdown",
   "metadata": {},
   "source": [
    "## References\n",
    "\n",
    "[1] Londschien, Malte, Peter Bühlmann, and Solt Kovács. \"Random forests for change point detection.\"_Journal of Machine Learning Research_ 24.216 (2023): 1-45."
   ]
  }
 ],
 "metadata": {
  "kernelspec": {
   "display_name": "notebooks",
   "language": "python",
   "name": "notebooks"
  },
  "language_info": {
   "codemirror_mode": {
    "name": "ipython",
    "version": 3
   },
   "file_extension": ".py",
   "mimetype": "text/x-python",
   "name": "python",
   "nbconvert_exporter": "python",
   "pygments_lexer": "ipython3",
   "version": "3.8.10"
  }
 },
 "nbformat": 4,
 "nbformat_minor": 4
}
