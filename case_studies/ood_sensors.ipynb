{
 "cells": [
  {
   "cell_type": "markdown",
   "metadata": {},
   "source": [
    "# Case study: Out-of-distribution generalization\n",
    "## Task b1: Predicting $\\tilde{I}_1$ from other measurements (Figure 5)"
   ]
  },
  {
   "cell_type": "code",
   "execution_count": 1,
   "metadata": {},
   "outputs": [],
   "source": [
    "import sys\n",
    "sys.path = ['../'] + sys.path"
   ]
  },
  {
   "cell_type": "code",
   "execution_count": 2,
   "metadata": {},
   "outputs": [],
   "source": [
    "%load_ext autoreload\n",
    "%autoreload 2"
   ]
  },
  {
   "cell_type": "code",
   "execution_count": 3,
   "metadata": {},
   "outputs": [],
   "source": [
    "import pandas as pd\n",
    "import numpy as np\n",
    "import matplotlib.pyplot as plt"
   ]
  },
  {
   "cell_type": "markdown",
   "metadata": {},
   "source": [
    "### Auxiliary functions\n",
    "\n",
    "#### Plotting"
   ]
  },
  {
   "cell_type": "code",
   "execution_count": 4,
   "metadata": {},
   "outputs": [
    {
     "data": {
      "text/plain": [
       "<matplotlib.collections.PathCollection at 0x7fdcadfbfba8>"
      ]
     },
     "execution_count": 4,
     "metadata": {},
     "output_type": "execute_result"
    },
    {
     "data": {
      "image/png": "[encoded data removed]",
      "text/plain": [
       "<Figure size 432x288 with 1 Axes>"
      ]
     },
     "metadata": {
      "needs_background": "light"
     },
     "output_type": "display_data"
    }
   ],
   "source": [
    "\n",
    "# Set tex formatting for plots\n",
    "# Set tex formatting for plots\n",
    "from matplotlib import rc\n",
    "rc('font',**{'family':'serif','sans-serif':['Computer Modern Roman']})\n",
    "rc('text', usetex=True)\n",
    "#plt.rcParams[\"font.family\"] = \"serif\"\n",
    "#plt.rcParams[\"font.serif\"] = [\"Computer Modern Roman\"]\n",
    "\n",
    "def to_rgb(H, b=1, a=1):\n",
    "    RGBa = []\n",
    "    for h in H:\n",
    "        h = h.lstrip(\"#\")\n",
    "        RGBa.append(tuple(int(h[i:i+2], 16) / 256 * b for i in (0, 2, 4)) + (a,))\n",
    "    return np.array(RGBa)\n",
    "\n",
    "# Color palettes\n",
    "ibm_color_blind = [\"#648fff\", \"#785ef0\", \"#dc267f\", \"#fe6100\", \"#ffb000\", \"#000000\", \"#ffffff\"]\n",
    "\n",
    "palette = ibm_color_blind\n",
    "base = to_rgb(palette)\n",
    "basea = to_rgb(palette, a=0.5)\n",
    "baseb = to_rgb(palette, b=0.7)\n",
    "plt.scatter(np.arange(len(base)), np.zeros(len(base)), c = base)\n",
    "plt.scatter(np.arange(len(base)), np.ones(len(base))*0.5, c = basea)\n",
    "plt.scatter(np.arange(len(base)), np.ones(len(base))*-0.5, c = baseb)"
   ]
  },
  {
   "cell_type": "markdown",
   "metadata": {},
   "source": [
    "### Load dataset"
   ]
  },
  {
   "cell_type": "code",
   "execution_count": 5,
   "metadata": {},
   "outputs": [
    {
     "name": "stdout",
     "output_type": "stream",
     "text": [
      "\n",
      "Fetching list of available datasets from https://causalchamber.s3.eu-central-1.amazonaws.com/downloadables/directory.yaml ... done.\n",
      "If you use our datasets or models for your work please consider citing:\n",
      "\n",
      "@article{gamella2024chamber,\n",
      "  title={The Causal Chambers: Real Physical Systems as a Testbed for AI Methodology},\n",
      "  author={Gamella, Juan L. and B\"uhlmann, Peter and Peters, Jonas},\n",
      "  journal={arXiv preprint arXiv:TODO},\n",
      "  year={2024}\n",
      "}\n",
      "\n",
      "Dataset lt_interventions_standard_v1 found in \"/tmp/lt_interventions_standard_v1\".\n"
     ]
    }
   ],
   "source": [
    "import causalchamber.datasets as datasets\n",
    "from causalchamber.ground_truth import latex_name\n",
    "chamber_dataset = datasets.Dataset(name=\"lt_interventions_standard_v1\", root=\"/tmp\")\n",
    "#chamber_dataset.available_experiments()"
   ]
  },
  {
   "cell_type": "markdown",
   "metadata": {},
   "source": [
    "Select experiments: `uniform_reference` will be the training dataset, the others will be the ood validation datasets."
   ]
  },
  {
   "cell_type": "code",
   "execution_count": 6,
   "metadata": {},
   "outputs": [],
   "source": [
    "experiments ={    \n",
    "    'uniform_reference': r\"$\\emptyset$\",\n",
    "    'uniform_red_mid': latex_name(\"red\"),\n",
    "    'uniform_green_mid': latex_name(\"green\"),\n",
    "    'uniform_blue_mid': latex_name(\"blue\"),\n",
    "    'uniform_t_vis_1_mid': latex_name(\"t_vis_1\"),\n",
    "    'uniform_t_vis_2_mid': latex_name(\"t_vis_2\"),\n",
    "    'uniform_t_vis_3_mid': latex_name(\"t_vis_3\"),\n",
    "    'uniform_t_ir_2_mid': latex_name(\"t_ir_2\"),\n",
    "    'uniform_pol_1_strong': latex_name(\"pol_1\"),\n",
    "    }"
   ]
  },
  {
   "cell_type": "code",
   "execution_count": 7,
   "metadata": {},
   "outputs": [],
   "source": [
    "dataframes = dict((e,chamber_dataset.get_experiment(e).as_pandas_dataframe()) for e in experiments.keys())"
   ]
  },
  {
   "cell_type": "markdown",
   "metadata": {},
   "source": [
    "Split `uniform_reference` into train and validation"
   ]
  },
  {
   "cell_type": "code",
   "execution_count": 8,
   "metadata": {},
   "outputs": [],
   "source": [
    "n_validate = 1000\n",
    "df_validate_train = dataframes['uniform_reference'].sample(n=n_validate)\n",
    "df_train_all = dataframes['uniform_reference'].drop(df_validate_train.index).sample(100)\n",
    "\n",
    "validation_experiments = {'uniform_reference': df_validate_train}\n",
    "for experiment,df in dataframes.items():\n",
    "    if experiment not in ['uniform_reference']:\n",
    "        validation_experiments[experiment] = df.sample(n=n_validate)"
   ]
  },
  {
   "cell_type": "markdown",
   "metadata": {},
   "source": [
    "### Fit linear models with different sets of predictors"
   ]
  },
  {
   "cell_type": "code",
   "execution_count": 9,
   "metadata": {},
   "outputs": [],
   "source": [
    "import statsmodels.api as sm\n",
    "\n",
    "def fit_and_evaluate(predictors, response='ir_1'):\n",
    "    df = df_train_all\n",
    "    Y = df[response]\n",
    "    X = df[predictors]\n",
    "    X = sm.add_constant(X)\n",
    "    model = sm.OLS(Y,X)\n",
    "    results = model.fit()\n",
    "    metric = {}\n",
    "    for i,(name,df) in enumerate(validation_experiments.items()):        \n",
    "        preds = model.predict(results.params, sm.add_constant(df[predictors]))\n",
    "        mae = abs(preds - df.ir_1).sum() / len(df)\n",
    "        metric[name] = mae        \n",
    "    return metric"
   ]
  },
  {
   "cell_type": "markdown",
   "metadata": {},
   "source": [
    "Define predictor sets"
   ]
  },
  {
   "cell_type": "code",
   "execution_count": 10,
   "metadata": {},
   "outputs": [],
   "source": [
    "models = [    \n",
    "    ['red'],\n",
    "    ['red', 'green'],\n",
    "    ['red', 'green', 'blue'],    \n",
    "    ['red', 'green', 'blue', 'vis_1'],\n",
    "    ['ir_2', 'ir_3', 'vis_1', 'vis_2', 'vis_3'],\n",
    "    [],\n",
    "]"
   ]
  },
  {
   "cell_type": "markdown",
   "metadata": {},
   "source": [
    "Fit and compute MAE"
   ]
  },
  {
   "cell_type": "code",
   "execution_count": 11,
   "metadata": {},
   "outputs": [
    {
     "name": "stderr",
     "output_type": "stream",
     "text": [
      "/home/juan/anaconda3/lib/python3.7/site-packages/statsmodels/tsa/tsatools.py:142: FutureWarning: In a future version of pandas all arguments of concat except for the argument 'objs' will be keyword-only\n",
      "  x = pd.concat(x[::order], 1)\n"
     ]
    }
   ],
   "source": [
    "metrics = {}\n",
    "for predictors in models:\n",
    "    if len(predictors) == 0:\n",
    "        name=\"mean\"\n",
    "    else:\n",
    "        name = \",\".join([latex_name(p, enclose=False) for p in predictors])\n",
    "    metrics[name] = fit_and_evaluate(predictors)"
   ]
  },
  {
   "cell_type": "code",
   "execution_count": 12,
   "metadata": {},
   "outputs": [
    {
     "data": {
      "text/html": [
       "<div>\n",
       "<style scoped>\n",
       "    .dataframe tbody tr th:only-of-type {\n",
       "        vertical-align: middle;\n",
       "    }\n",
       "\n",
       "    .dataframe tbody tr th {\n",
       "        vertical-align: top;\n",
       "    }\n",
       "\n",
       "    .dataframe thead th {\n",
       "        text-align: right;\n",
       "    }\n",
       "</style>\n",
       "<table border=\"1\" class=\"dataframe\">\n",
       "  <thead>\n",
       "    <tr style=\"text-align: right;\">\n",
       "      <th></th>\n",
       "      <th>predictors</th>\n",
       "      <th>$\\emptyset$</th>\n",
       "      <th>$R$</th>\n",
       "      <th>$G$</th>\n",
       "      <th>$B$</th>\n",
       "      <th>$T^V_1$</th>\n",
       "      <th>$T^V_2$</th>\n",
       "      <th>$T^V_3$</th>\n",
       "      <th>$T^I_2$</th>\n",
       "      <th>$\\theta_1$</th>\n",
       "    </tr>\n",
       "  </thead>\n",
       "  <tbody>\n",
       "    <tr>\n",
       "      <th>0</th>\n",
       "      <td>R</td>\n",
       "      <td>2456.588894</td>\n",
       "      <td>2552.863977</td>\n",
       "      <td>7533.414904</td>\n",
       "      <td>4939.299164</td>\n",
       "      <td>2492.775496</td>\n",
       "      <td>2457.539840</td>\n",
       "      <td>2438.658152</td>\n",
       "      <td>2444.988245</td>\n",
       "      <td>2432.026896</td>\n",
       "    </tr>\n",
       "    <tr>\n",
       "      <th>1</th>\n",
       "      <td>R,G</td>\n",
       "      <td>1625.403705</td>\n",
       "      <td>1854.153856</td>\n",
       "      <td>2030.974638</td>\n",
       "      <td>5118.991401</td>\n",
       "      <td>1614.107792</td>\n",
       "      <td>1647.467997</td>\n",
       "      <td>1719.489354</td>\n",
       "      <td>1613.261030</td>\n",
       "      <td>1647.671208</td>\n",
       "    </tr>\n",
       "    <tr>\n",
       "      <th>2</th>\n",
       "      <td>R,G,B</td>\n",
       "      <td>1022.711373</td>\n",
       "      <td>1453.641816</td>\n",
       "      <td>1329.701775</td>\n",
       "      <td>1190.869265</td>\n",
       "      <td>1012.607649</td>\n",
       "      <td>1004.716736</td>\n",
       "      <td>1104.851816</td>\n",
       "      <td>1009.693085</td>\n",
       "      <td>1010.473046</td>\n",
       "    </tr>\n",
       "    <tr>\n",
       "      <th>3</th>\n",
       "      <td>R,G,B,\\tilde{V}_1</td>\n",
       "      <td>686.078555</td>\n",
       "      <td>955.292419</td>\n",
       "      <td>1030.921273</td>\n",
       "      <td>1277.445897</td>\n",
       "      <td>5559.365202</td>\n",
       "      <td>681.710627</td>\n",
       "      <td>706.664841</td>\n",
       "      <td>640.206055</td>\n",
       "      <td>641.015086</td>\n",
       "    </tr>\n",
       "    <tr>\n",
       "      <th>4</th>\n",
       "      <td>\\tilde{I}_2,\\tilde{I}_3,\\tilde{V}_1,\\tilde{V}_...</td>\n",
       "      <td>820.326028</td>\n",
       "      <td>1259.608512</td>\n",
       "      <td>1158.229040</td>\n",
       "      <td>1432.017049</td>\n",
       "      <td>5231.876754</td>\n",
       "      <td>3552.165501</td>\n",
       "      <td>1885.704606</td>\n",
       "      <td>4833.865069</td>\n",
       "      <td>1112.171763</td>\n",
       "    </tr>\n",
       "    <tr>\n",
       "      <th>5</th>\n",
       "      <td>mean</td>\n",
       "      <td>3720.415120</td>\n",
       "      <td>12133.868000</td>\n",
       "      <td>7693.951280</td>\n",
       "      <td>5347.373560</td>\n",
       "      <td>3767.519880</td>\n",
       "      <td>3849.857600</td>\n",
       "      <td>3766.696560</td>\n",
       "      <td>3771.192480</td>\n",
       "      <td>3814.709160</td>\n",
       "    </tr>\n",
       "  </tbody>\n",
       "</table>\n",
       "</div>"
      ],
      "text/plain": [
       "                                          predictors  $\\emptyset$  \\\n",
       "0                                                  R  2456.588894   \n",
       "1                                                R,G  1625.403705   \n",
       "2                                              R,G,B  1022.711373   \n",
       "3                                  R,G,B,\\tilde{V}_1   686.078555   \n",
       "4  \\tilde{I}_2,\\tilde{I}_3,\\tilde{V}_1,\\tilde{V}_...   820.326028   \n",
       "5                                               mean  3720.415120   \n",
       "\n",
       "            $R$          $G$          $B$      $T^V_1$      $T^V_2$  \\\n",
       "0   2552.863977  7533.414904  4939.299164  2492.775496  2457.539840   \n",
       "1   1854.153856  2030.974638  5118.991401  1614.107792  1647.467997   \n",
       "2   1453.641816  1329.701775  1190.869265  1012.607649  1004.716736   \n",
       "3    955.292419  1030.921273  1277.445897  5559.365202   681.710627   \n",
       "4   1259.608512  1158.229040  1432.017049  5231.876754  3552.165501   \n",
       "5  12133.868000  7693.951280  5347.373560  3767.519880  3849.857600   \n",
       "\n",
       "       $T^V_3$      $T^I_2$   $\\theta_1$  \n",
       "0  2438.658152  2444.988245  2432.026896  \n",
       "1  1719.489354  1613.261030  1647.671208  \n",
       "2  1104.851816  1009.693085  1010.473046  \n",
       "3   706.664841   640.206055   641.015086  \n",
       "4  1885.704606  4833.865069  1112.171763  \n",
       "5  3766.696560  3771.192480  3814.709160  "
      ]
     },
     "execution_count": 12,
     "metadata": {},
     "output_type": "execute_result"
    }
   ],
   "source": [
    "df = pd.DataFrame.from_dict({str(i): metrics[i] for i in metrics.keys()},\n",
    "                       orient='index')\n",
    "df.columns = [experiments[c] for c in df.columns]\n",
    "#df /= 1000\n",
    "df = df.reset_index().rename(columns={'index': 'predictors'})\n",
    "df"
   ]
  },
  {
   "cell_type": "markdown",
   "metadata": {},
   "source": [
    "### Plot results: spider plot"
   ]
  },
  {
   "cell_type": "code",
   "execution_count": 13,
   "metadata": {},
   "outputs": [
    {
     "data": {
      "image/png": "[encoded data removed]",
      "text/plain": [
       "<Figure size 158.4x158.4 with 1 Axes>"
      ]
     },
     "metadata": {
      "needs_background": "light"
     },
     "output_type": "display_data"
    }
   ],
   "source": [
    "# Taken from https://python-graph-gallery.com/391-radar-chart-with-several-individuals/\n",
    "\n",
    "mmax = df.values[:,1:].max()\n",
    "plt.figure(figsize=(2.2,2.2))\n",
    "\n",
    "def t(x):\n",
    "    return np.power(x, 1/3)\n",
    "    \n",
    "# ------- PART 1: Create background\n",
    " \n",
    "# number of variables\n",
    "categories=list(df)[1:]\n",
    "N = len(categories)\n",
    " \n",
    "# What will be the angle of each axis in the plot? (we divide the plot / number of variable)\n",
    "angles = [n / float(N) * 2 * np.pi for n in range(N)]\n",
    "angles += angles[:1]\n",
    " \n",
    "# Initialise the spider plot\n",
    "ax = plt.subplot(111, polar=True)\n",
    " \n",
    "# If you want the first axis to be on top:\n",
    "ax.set_theta_offset(np.pi / 2)\n",
    "ax.set_theta_direction(-1)\n",
    " \n",
    "# Draw one axe per variable + add labels\n",
    "plt.xticks(angles[:-1], categories)\n",
    " \n",
    "# Draw ylabels\n",
    "ax.set_rlabel_position(0)\n",
    "yticks = np.linspace(0,mmax,5)\n",
    "plt.yticks(t(yticks), [])\n",
    "plt.ylim(0,t(mmax))\n",
    " \n",
    "\n",
    "# ------- PART 2: Add plots\n",
    " \n",
    "# Plot each individual = each line of the data\n",
    "# I don't make a loop, because plotting more than 3 groups makes the chart unreadable\n",
    " \n",
    "for i in range(len(df)):    \n",
    "    values=df.loc[i].drop('predictors').values.flatten().tolist()\n",
    "    values += values[:1]\n",
    "    values = t(values)\n",
    "    model_name = df.loc[i].predictors\n",
    "    #linestyle = '-' if model_name in [\"R\", \"R,G\",\"R,G,B\"] else '--'     \n",
    "    #color = 'black' if model_name == \"R,G,B\" else base[i]    \n",
    "    if model_name == \"mean\":\n",
    "        label = \"Regr. to mean\"\n",
    "        linestyle = \"--\"\n",
    "        color = np.array([0,0,0,1])\n",
    "    else:\n",
    "        label = r\"$\\tilde{I}_1 \\sim \" + model_name + \"$\"\n",
    "        linestyle = \"-\"\n",
    "        color = base[i]\n",
    "    ax.plot(angles, values, linewidth=1, linestyle=linestyle, label=label, color = color)\n",
    "    ax.fill(angles, values, color=color*np.array([1,1,1,0.1]))\n",
    "\n",
    "# Add legend\n",
    "legend = plt.legend(loc='lower left', bbox_to_anchor=(1.1, -0.1), title='Model', ncol=2)\n",
    "#legend._legend_box.align = \"left\"\n",
    "\n",
    "# Show the graph\n",
    "plt.savefig(\"../figures/tabular_regression.pdf\", bbox_inches=\"tight\", transparent=\"True\")"
   ]
  },
  {
   "cell_type": "markdown",
   "metadata": {},
   "source": [
    "### Alternative plots"
   ]
  },
  {
   "cell_type": "code",
   "execution_count": 14,
   "metadata": {},
   "outputs": [
    {
     "data": {
      "text/plain": [
       "{'R': array([2456.588893582235, 2552.863976925586, 7533.414903989424,\n",
       "        4939.299164007627, 2492.7754959865356, 2457.5398395438697,\n",
       "        2438.658152185337, 2444.988245025674, 2432.026896196053],\n",
       "       dtype=object),\n",
       " 'R,G': array([1625.403705483789, 1854.1538560511106, 2030.9746383801246,\n",
       "        5118.9914008318365, 1614.1077924528931, 1647.4679971404612,\n",
       "        1719.4893535166098, 1613.2610303435888, 1647.6712083350462],\n",
       "       dtype=object),\n",
       " 'R,G,B': array([1022.7113725068914, 1453.641815805023, 1329.701774997667,\n",
       "        1190.8692649082884, 1012.6076492228599, 1004.7167360242019,\n",
       "        1104.8518159665648, 1009.6930853157022, 1010.4730460433985],\n",
       "       dtype=object),\n",
       " 'R,G,B,\\\\tilde{V}_1': array([686.0785550292109, 955.2924185311115, 1030.9212731784116,\n",
       "        1277.4458967060737, 5559.36520202094, 681.7106273551994,\n",
       "        706.6648413160858, 640.2060550691695, 641.0150862124765],\n",
       "       dtype=object),\n",
       " '\\\\tilde{I}_2,\\\\tilde{I}_3,\\\\tilde{V}_1,\\\\tilde{V}_2,\\\\tilde{V}_3': array([820.3260281718784, 1259.6085121308704, 1158.2290400831782,\n",
       "        1432.017049485154, 5231.876754307613, 3552.1655007743566,\n",
       "        1885.7046064898325, 4833.865069153337, 1112.1717629636007],\n",
       "       dtype=object),\n",
       " 'mean': array([3720.41512, 12133.868, 7693.951279999997, 5347.373559999999,\n",
       "        3767.51988, 3849.8576000000003, 3766.6965600000003,\n",
       "        3771.1924800000006, 3814.7091600000003], dtype=object)}"
      ]
     },
     "execution_count": 14,
     "metadata": {},
     "output_type": "execute_result"
    }
   ],
   "source": [
    "maes_all_models = {}\n",
    "for _,row in df.iterrows():\n",
    "    maes_all_models[row.predictors] = row.values[1:]\n",
    "maes_all_models"
   ]
  },
  {
   "cell_type": "code",
   "execution_count": 15,
   "metadata": {},
   "outputs": [
    {
     "data": {
      "text/plain": [
       "<Figure size 158.4x158.4 with 0 Axes>"
      ]
     },
     "metadata": {},
     "output_type": "display_data"
    },
    {
     "data": {
      "image/png": "[encoded data removed]",
      "text/plain": [
       "<Figure size 432x288 with 1 Axes>"
      ]
     },
     "metadata": {
      "needs_background": "light"
     },
     "output_type": "display_data"
    }
   ],
   "source": [
    "# Taken from https://python-graph-gallery.com/391-radar-chart-with-several-individuals/\n",
    "\n",
    "mmax = df.values[:,1:].max()\n",
    "plt.figure(figsize=(2.2,2.2))\n",
    "\n",
    "# data from https://allisonhorst.github.io/palmerpenguins/\n",
    "\n",
    "import matplotlib.pyplot as plt\n",
    "import numpy as np\n",
    "\n",
    "datasets = df.columns[1:]\n",
    "\n",
    "x = np.arange(len(datasets))*1.5  # the label locations\n",
    "width = 0.2  # the width of the bars\n",
    "multiplier = 0\n",
    "\n",
    "fig, ax = plt.subplots(layout='constrained')\n",
    "\n",
    "for i,(model, maes) in enumerate(maes_all_models.items()):          \n",
    "    rects = ax.plot(x, maes, label=\"$\" + model + \"$\", color=base[i], marker='o')\n",
    "\n",
    "# Add some text for labels, title and custom x-axis tick labels, etc.\n",
    "ax.set_ylabel('MAE')\n",
    "ax.set_xticks(x, datasets)\n",
    "ax.legend(loc='upper right', ncol=1)\n",
    "#ax.set_ylim(0, 250)\n",
    "\n",
    "plt.show()"
   ]
  },
  {
   "cell_type": "code",
   "execution_count": 16,
   "metadata": {},
   "outputs": [
    {
     "name": "stdout",
     "output_type": "stream",
     "text": [
      "R\n",
      "R,G\n",
      "R,G,B\n",
      "R,G,B,\\tilde{V}_1\n",
      "\\tilde{I}_2,\\tilde{I}_3,\\tilde{V}_1,\\tilde{V}_2,\\tilde{V}_3\n",
      "mean\n"
     ]
    },
    {
     "data": {
      "text/plain": [
       "<Figure size 158.4x158.4 with 0 Axes>"
      ]
     },
     "metadata": {},
     "output_type": "display_data"
    },
    {
     "data": {
      "image/png": "[encoded data removed]",
      "text/plain": [
       "<Figure size 432x288 with 1 Axes>"
      ]
     },
     "metadata": {
      "needs_background": "light"
     },
     "output_type": "display_data"
    }
   ],
   "source": [
    "# Taken from https://python-graph-gallery.com/391-radar-chart-with-several-individuals/\n",
    "\n",
    "mmax = df.values[:,1:].max()\n",
    "plt.figure(figsize=(2.2,2.2))\n",
    "\n",
    "# data from https://allisonhorst.github.io/palmerpenguins/\n",
    "\n",
    "import matplotlib.pyplot as plt\n",
    "import numpy as np\n",
    "\n",
    "datasets = df.columns[1:]\n",
    "\n",
    "x = np.arange(len(datasets))*1.5  # the label locations\n",
    "width = 0.2  # the width of the bars\n",
    "multiplier = 0\n",
    "\n",
    "fig, ax = plt.subplots(layout='constrained')\n",
    "\n",
    "for i,(model, maes) in enumerate(maes_all_models.items()):\n",
    "    print(model)\n",
    "    offset = width * multiplier    \n",
    "    rects = ax.bar(x + offset, maes, width, label=\"$\" + model + \"$\", color=base[i])\n",
    "    #ax.bar_label(rects, padding=3)\n",
    "    multiplier += 1\n",
    "\n",
    "# Add some text for labels, title and custom x-axis tick labels, etc.\n",
    "ax.set_ylabel('Length (mm)')\n",
    "ax.set_xticks(x + width, datasets)\n",
    "ax.legend(loc='upper right', ncol=1)\n",
    "#ax.set_ylim(0, 250)\n",
    "\n",
    "plt.show()"
   ]
  },
  {
   "cell_type": "markdown",
   "metadata": {},
   "source": [
    "### Additional scatter plot for the figure"
   ]
  },
  {
   "cell_type": "code",
   "execution_count": 17,
   "metadata": {},
   "outputs": [
    {
     "name": "stderr",
     "output_type": "stream",
     "text": [
      "/home/juan/anaconda3/lib/python3.7/site-packages/matplotlib/collections.py:981: RuntimeWarning: invalid value encountered in sqrt\n",
      "  scale = np.sqrt(self._sizes) * dpi / 72.0 * self._factor\n"
     ]
    },
    {
     "data": {
      "image/png": "[encoded data removed]",
      "text/plain": [
       "<Figure size 252x252 with 1 Axes>"
      ]
     },
     "metadata": {
      "needs_background": "light"
     },
     "output_type": "display_data"
    }
   ],
   "source": [
    "plt.figure(figsize=(3.5,3.5))\n",
    "kwargs = {'edgecolor': 'black', 'linewidth': 0.4}\n",
    "df_all = pd.concat(dataframes.values(), ignore_index=True).sample(2000)\n",
    "x = df_all[['red', 'green', 'blue']].values.mean(axis=1)\n",
    "c = df_all[['red', 'green', 'blue']].values / 255 + 0.2\n",
    "plt.scatter(df_all.vis_1,df_all.ir_1,c=c, **kwargs,s=df_all.pol_1)\n",
    "#plt.xticks([], [])\n",
    "#plt.yticks([], [])\n",
    "plt.gca().set_xticklabels([])\n",
    "plt.gca().set_yticklabels([])\n",
    "plt.ylabel(latex_name('ir_1'), rotation=0, fontsize=20)\n",
    "plt.xlabel(latex_name('vis_1'), rotation=0, fontsize=20)\n",
    "plt.savefig(\"../figures/sensor_scatter.pdf\", bbox_inches='tight')"
   ]
  },
  {
   "cell_type": "code",
   "execution_count": null,
   "metadata": {},
   "outputs": [],
   "source": []
  }
 ],
 "metadata": {
  "kernelspec": {
   "display_name": "Python 3",
   "language": "python",
   "name": "python3"
  },
  "language_info": {
   "codemirror_mode": {
    "name": "ipython",
    "version": 3
   },
   "file_extension": ".py",
   "mimetype": "text/x-python",
   "name": "python",
   "nbconvert_exporter": "python",
   "pygments_lexer": "ipython3",
   "version": "3.7.3"
  }
 },
 "nbformat": 4,
 "nbformat_minor": 4
}
