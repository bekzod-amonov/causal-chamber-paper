{
 "cells": [
  {
   "cell_type": "markdown",
   "metadata": {},
   "source": [
    "# Case study: Out-of-distribution generalization"
   ]
  },
  {
   "cell_type": "markdown",
   "metadata": {},
   "source": [
    "Directory to store the downloaded causal chamber datasets."
   ]
  },
  {
   "cell_type": "code",
   "execution_count": 1,
   "metadata": {},
   "outputs": [],
   "source": [
    "DOWNLOAD_DIR = '/tmp'"
   ]
  },
  {
   "cell_type": "markdown",
   "metadata": {},
   "source": [
    "## Task b2: Image regression (Figure 5)"
   ]
  },
  {
   "cell_type": "code",
   "execution_count": 2,
   "metadata": {},
   "outputs": [],
   "source": [
    "import sys\n",
    "sys.path = ['../'] + sys.path"
   ]
  },
  {
   "cell_type": "code",
   "execution_count": 3,
   "metadata": {},
   "outputs": [],
   "source": [
    "%load_ext autoreload\n",
    "%autoreload 2"
   ]
  },
  {
   "cell_type": "code",
   "execution_count": 4,
   "metadata": {},
   "outputs": [
    {
     "name": "stderr",
     "output_type": "stream",
     "text": [
      "/home/juan/ETH/causal-chamber-paper/notebooks/lib/python3.8/site-packages/tqdm/auto.py:21: TqdmWarning: IProgress not found. Please update jupyter and ipywidgets. See https://ipywidgets.readthedocs.io/en/stable/user_install.html\n",
      "  from .autonotebook import tqdm as notebook_tqdm\n"
     ]
    }
   ],
   "source": [
    "import matplotlib.pyplot as plt\n",
    "import torch\n",
    "import torchvision.transforms as transforms\n",
    "import pandas as pd\n",
    "import numpy as np\n",
    "from datetime import datetime"
   ]
  },
  {
   "cell_type": "markdown",
   "metadata": {},
   "source": [
    "### Auxiliary functions\n",
    "\n",
    "#### Plotting"
   ]
  },
  {
   "cell_type": "code",
   "execution_count": 5,
   "metadata": {},
   "outputs": [
    {
     "data": {
      "text/plain": [
       "<matplotlib.collections.PathCollection at 0x7fada5095940>"
      ]
     },
     "execution_count": 5,
     "metadata": {},
     "output_type": "execute_result"
    },
    {
     "data": {
      "image/png": "[encoded data removed]",
      "text/plain": [
       "<Figure size 640x480 with 1 Axes>"
      ]
     },
     "metadata": {},
     "output_type": "display_data"
    }
   ],
   "source": [
    "from matplotlib import rc\n",
    "rc('font',**{'family':'serif','sans-serif':['Computer Modern Roman']})\n",
    "rc('text', usetex=True)\n",
    "plt.rc('text.latex', preamble=r'\\usepackage{amsmath}')\n",
    "\n",
    "def to_rgb(H, b=1, a=1):\n",
    "    RGBa = []\n",
    "    for h in H:\n",
    "        h = h.lstrip(\"#\")\n",
    "        RGBa.append(tuple(int(h[i:i+2], 16) / 256 * b for i in (0, 2, 4)) + (a,))\n",
    "    return np.array(RGBa)\n",
    "\n",
    "# Color palettes\n",
    "color_blind_1 = ['#d73027', '#fc8d59', '#fee090', '#91bfdb', '#4575b4', '#020202',]\n",
    "color_blind_2 = ['#b2182b', '#d6604d', '#f4a582', '#fddbc7', '#d1e5f0', '#92c5de', '#4393c3', '#2166ac']\n",
    "color_blind_3 = ['#8c510a', '#bf812d', '#dfc27d', '#f6e8c3', '#c7eae5', '#80cdc1', '#35978f', '#01665e']\n",
    "ibm_color_blind = [\"#648fff\", \"#785ef0\", \"#dc267f\", \"#fe6100\", \"#ffb000\", \"#000000\", \"#ffffff\"]\n",
    "rainbow10 = [\"#ff4365\", \"#ffdd43\", \"#59ff43\", \"#43ffdd\", \"#7395ff\", \"#4365ff\", \"#e943ff\", \"#601e9e\", \"#6a6a6a\", \"#964b00\"]\n",
    "\n",
    "\n",
    "# Pick one and show\n",
    "\n",
    "palette = ibm_color_blind\n",
    "\n",
    "base = to_rgb(palette)\n",
    "basea = to_rgb(palette, a=0.5)\n",
    "baseb = to_rgb(palette, b=0.7)\n",
    "plt.scatter(np.arange(len(base)), np.zeros(len(base)), c = base)\n",
    "plt.scatter(np.arange(len(base)), np.ones(len(base))*0.5, c = basea)\n",
    "plt.scatter(np.arange(len(base)), np.ones(len(base))*-0.5, c = baseb)"
   ]
  },
  {
   "cell_type": "markdown",
   "metadata": {},
   "source": [
    "#### Custom PyTorch dataset for the images"
   ]
  },
  {
   "cell_type": "code",
   "execution_count": 6,
   "metadata": {},
   "outputs": [],
   "source": [
    "class TorchImageDataset(torch.utils.data.Dataset):\n",
    "    \"\"\"\n",
    "    To load the image datasets.\n",
    "    \"\"\"\n",
    "    \n",
    "    def __init__(self,images,labels,mean_labels=None,std_labels=None):\n",
    "        \n",
    "        # Normalize labels\n",
    "        self.mean_labels = labels.mean(axis=0, keepdims=True) if mean_labels is None else mean_labels        \n",
    "        self.std_labels = labels.std(axis=0, keepdims=True) if std_labels is None else std_labels        \n",
    "        self.n = len(labels)\n",
    "        self.labels = torch.tensor((labels - self.mean_labels) / self.std_labels, dtype=torch.float32)    \n",
    "\n",
    "        # Process images: tensors with pixel values between [-1,1]        \n",
    "        transform = transforms.Compose(\n",
    "            [\n",
    "                transforms.ToTensor(),\n",
    "                transforms.Normalize((0.5, 0.5, 0.5), (0.5, 0.5, 0.5)),\n",
    "            ]\n",
    "        )\n",
    "        self.images = [torch.unsqueeze(transform(im), 0) for im in images]\n",
    "        self.images = torch.cat(self.images) # Concatenate images into a single tensor\n",
    "\n",
    "    def __len__(self):\n",
    "        return self.n\n",
    "\n",
    "    def __getitem__(self, idx):\n",
    "        if torch.is_tensor(idx):\n",
    "            idx = idx.tolist()\n",
    "        return self.images[idx], self.labels[idx]"
   ]
  },
  {
   "cell_type": "markdown",
   "metadata": {},
   "source": [
    "### Download dataset"
   ]
  },
  {
   "cell_type": "code",
   "execution_count": 7,
   "metadata": {},
   "outputs": [
    {
     "name": "stdout",
     "output_type": "stream",
     "text": [
      "\n",
      "Fetching list of available datasets from https://causalchamber.s3.eu-central-1.amazonaws.com/downloadables/directory.yaml ... done.\n",
      "If you use our datasets or models for your work please consider citing:\n",
      "\n",
      "@article{gamella2024chamber,\n",
      "  title={The Causal Chambers: Real Physical Systems as a Testbed for AI Methodology},\n",
      "  author={Gamella, Juan L. and B\"uhlmann, Peter and Peters, Jonas},\n",
      "  journal={arXiv preprint arXiv:2404.11341},\n",
      "  year={2024}\n",
      "}\n",
      "\n",
      "Dataset lt_color_regression_v1 found in \"/home/juan/.chamber_datasets/lt_color_regression_v1\".\n"
     ]
    },
    {
     "data": {
      "text/plain": [
       "['iso_1000.0',\n",
       " 'aperture_5.0',\n",
       " 'aperture_11.0',\n",
       " 'shutter_speed_0.002',\n",
       " 'reference',\n",
       " 'bright_colors',\n",
       " 'pol_1_90',\n",
       " 'iso_500.0',\n",
       " 'shutter_speed_0.001',\n",
       " 'pol_1_45']"
      ]
     },
     "execution_count": 7,
     "metadata": {},
     "output_type": "execute_result"
    }
   ],
   "source": [
    "import causalchamber.datasets as datasets\n",
    "camera_dataset = datasets.Dataset(name=\"lt_color_regression_v1\", root=DOWNLOAD_DIR)\n",
    "camera_dataset.available_experiments()"
   ]
  },
  {
   "cell_type": "markdown",
   "metadata": {},
   "source": [
    "### Split into train / test / validation sets and standardize"
   ]
  },
  {
   "cell_type": "markdown",
   "metadata": {},
   "source": [
    "We will use the experiments data as follows:\n",
    "\n",
    "- training set: `reference`\n",
    "- validation sets: experiments\n",
    "    - `bright_colors`\n",
    "    - `iso_1000.0`\n",
    "    - `apreture_11.0`\n",
    "    - `shutter_speed_0.001`\n",
    "    - `regression_pol_1_90`"
   ]
  },
  {
   "cell_type": "code",
   "execution_count": 8,
   "metadata": {},
   "outputs": [
    {
     "name": "stdout",
     "output_type": "stream",
     "text": [
      "Loading\n",
      "   reference\n",
      "   bright_colors\n",
      "   iso_1000.0\n",
      "   aperture_11.0\n",
      "   shutter_speed_0.001\n",
      "   pol_1_90\n"
     ]
    }
   ],
   "source": [
    "experiments = [\n",
    "    'reference',\n",
    "    'bright_colors',    \n",
    "    'iso_1000.0',\n",
    "    'aperture_11.0',\n",
    "    'shutter_speed_0.001',\n",
    "    'pol_1_90',\n",
    "]\n",
    "images_labels = {}\n",
    "size = '100'\n",
    "responses = ['red', 'green', 'blue']\n",
    "print(\"Loading\")\n",
    "for name in experiments:\n",
    "    print(\"  \", name)\n",
    "    experiment = camera_dataset.get_experiment(name)    \n",
    "    labels = experiment.as_pandas_dataframe()[responses]\n",
    "    images = experiment.as_image_array(size)\n",
    "    images_labels[name] = (images,labels)"
   ]
  },
  {
   "cell_type": "code",
   "execution_count": 9,
   "metadata": {},
   "outputs": [
    {
     "name": "stdout",
     "output_type": "stream",
     "text": [
      "n = 9000\n",
      "  train\n",
      "  test\n",
      "  validate\n",
      "  bright_colors\n",
      "  iso_1000.0\n",
      "  aperture_11.0\n",
      "  shutter_speed_0.001\n",
      "  pol_1_90\n"
     ]
    }
   ],
   "source": [
    "n_validate = 500\n",
    "n_test = 500\n",
    "Ns = [9000]\n",
    "datasets = {}\n",
    "\n",
    "for n in Ns:\n",
    "    print(\"n =\",n)\n",
    "    (all_images,df) = images_labels['reference']\n",
    "    \n",
    "    df_train = df.sample(n=n, random_state=1)[responses]\n",
    "    images_train = all_images[df_train.index]\n",
    "    df_rest = df.drop(df_train.index)\n",
    "    \n",
    "    df_test = df_rest.sample(n=n_test, random_state=2)[responses]\n",
    "    images_test = all_images[df_test.index]\n",
    "    df_rest = df_rest.drop(df_test.index)\n",
    "    \n",
    "    df_validate = df_rest.sample(n=n_validate, random_state=3)[responses]\n",
    "    images_validate = all_images[df_validate.index]\n",
    "    \n",
    "    # Cast into torch dataset and normalize\n",
    "    dataset_train = TorchImageDataset(images_train, df_train.values)\n",
    "    standardization = {'mean_labels': dataset_train.mean_labels,\n",
    "                       'std_labels': dataset_train.std_labels}    \n",
    "    # Training dataset\n",
    "    datasets[n] = {}\n",
    "    print('  train')\n",
    "    datasets[n]['train'] = dataset_train    \n",
    "    # Test dataset\n",
    "    print('  test')\n",
    "    datasets[n]['test'] = TorchImageDataset(images_test, df_test.values, **standardization)\n",
    "    # Validate dataset (training dist.)\n",
    "    print('  validate')\n",
    "    datasets[n]['validate'] = TorchImageDataset(images_validate, df_validate.values, **standardization)\n",
    "    \n",
    "    # Other validation datasets (distribution shifts)    \n",
    "    for name, (images, labels) in images_labels.items():\n",
    "        if name == 'reference':\n",
    "            continue\n",
    "        print(\" \",name)\n",
    "        labels = labels.sample(n=n_validate, random_state=len(name))\n",
    "        images = images[labels.index]\n",
    "        datasets[n][name] = TorchImageDataset(images, labels.values, **standardization)"
   ]
  },
  {
   "cell_type": "markdown",
   "metadata": {},
   "source": [
    "### Train or load models for each sample size"
   ]
  },
  {
   "cell_type": "code",
   "execution_count": 10,
   "metadata": {},
   "outputs": [],
   "source": [
    "train = False"
   ]
  },
  {
   "cell_type": "code",
   "execution_count": 11,
   "metadata": {},
   "outputs": [],
   "source": [
    "from torch.utils.data import DataLoader\n",
    "import time\n",
    "def train_model(model, dataset_train, dataset_test, epochs=300, batch_size=2048,learning_rate=1e-3, weight_decay=1e-5, device=\"cuda\",every=15):    \n",
    "    print(\"Device: %s\" % device, \" batch size:\", batch_size)    \n",
    "\n",
    "    loss_function = torch.nn.MSELoss()\n",
    "    optimizer = torch.optim.Adam\n",
    "    opt_args = {'lr': learning_rate, 'weight_decay': weight_decay}    \n",
    "\n",
    "    # Dataloaders\n",
    "    dataloader_args = {'shuffle': True, 'num_workers':0}\n",
    "    train_dataloader = DataLoader(dataset_train, batch_size=batch_size, **dataloader_args)\n",
    "    X_test, Y_test = next(iter(DataLoader(dataset_test, batch_size=len(dataset_test))))\n",
    "\n",
    "    # Initiate optimizer\n",
    "    optimizer = optimizer(model.parameters(), **opt_args)\n",
    "\n",
    "    # Training loop\n",
    "    for epoch in range(epochs):\n",
    "        start = time.time()\n",
    "        print(f\"\\nEpoch {epoch}\") if epoch % every == 0 else None\n",
    "        for i,(X,Y) in enumerate(train_dataloader):            \n",
    "\n",
    "            # Zero gradients\n",
    "            optimizer.zero_grad()\n",
    "\n",
    "            # Forward pass\n",
    "            y_pred = model(X)\n",
    "            loss = loss_function(y_pred, Y.to(device))\n",
    "\n",
    "            # Zero gradients, backward pass, and update weights\n",
    "\n",
    "            loss.backward()\n",
    "            optimizer.step()\n",
    "\n",
    "            # Compute test loss        \n",
    "            y_pred_test = model(X_test)\n",
    "            test_loss = loss_function(y_pred_test, Y_test.to(device)).item()\n",
    "        elapsed = time.time() - start\n",
    "        # Print progress every 100 epochs\n",
    "        if epoch % every == 0:\n",
    "            print(f\"Epoch {epoch}, {elapsed:0.1f} seconds , Loss: {loss.item()}, Test loss: {test_loss}\")\n",
    "            \n",
    "    return model"
   ]
  },
  {
   "cell_type": "code",
   "execution_count": 12,
   "metadata": {},
   "outputs": [],
   "source": [
    "torch.cuda.empty_cache()    "
   ]
  },
  {
   "cell_type": "code",
   "execution_count": 13,
   "metadata": {
    "scrolled": true
   },
   "outputs": [
    {
     "name": "stdout",
     "output_type": "stream",
     "text": [
      "--------------------------------------------------\n",
      "seed: 0\n",
      "\n",
      "\n",
      "\n",
      "n = 9000\n",
      "--------------------------------------------------\n",
      "seed: 1\n",
      "\n",
      "\n",
      "\n",
      "n = 9000\n",
      "--------------------------------------------------\n",
      "seed: 2\n",
      "\n",
      "\n",
      "\n",
      "n = 9000\n",
      "--------------------------------------------------\n",
      "seed: 3\n",
      "\n",
      "\n",
      "\n",
      "n = 9000\n",
      "--------------------------------------------------\n",
      "seed: 4\n",
      "\n",
      "\n",
      "\n",
      "n = 9000\n",
      "--------------------------------------------------\n",
      "seed: 5\n",
      "\n",
      "\n",
      "\n",
      "n = 9000\n",
      "--------------------------------------------------\n",
      "seed: 6\n",
      "\n",
      "\n",
      "\n",
      "n = 9000\n",
      "--------------------------------------------------\n",
      "seed: 7\n",
      "\n",
      "\n",
      "\n",
      "n = 9000\n",
      "--------------------------------------------------\n",
      "seed: 8\n",
      "\n",
      "\n",
      "\n",
      "n = 9000\n",
      "--------------------------------------------------\n",
      "seed: 9\n",
      "\n",
      "\n",
      "\n",
      "n = 9000\n",
      "--------------------------------------------------\n",
      "seed: 10\n",
      "\n",
      "\n",
      "\n",
      "n = 9000\n",
      "--------------------------------------------------\n",
      "seed: 11\n",
      "\n",
      "\n",
      "\n",
      "n = 9000\n",
      "--------------------------------------------------\n",
      "seed: 12\n",
      "\n",
      "\n",
      "\n",
      "n = 9000\n",
      "--------------------------------------------------\n",
      "seed: 13\n",
      "\n",
      "\n",
      "\n",
      "n = 9000\n",
      "--------------------------------------------------\n",
      "seed: 14\n",
      "\n",
      "\n",
      "\n",
      "n = 9000\n",
      "--------------------------------------------------\n",
      "seed: 15\n",
      "\n",
      "\n",
      "\n",
      "n = 9000\n"
     ]
    }
   ],
   "source": [
    "from src.models import CNNLinearHead as CNN\n",
    "fitted_models = dict((n,[]) for n in Ns)\n",
    "seeds = np.arange(16) # TODO: change back to 16\n",
    "for seed in seeds:\n",
    "    print(\"-\"*50)\n",
    "    print(\"seed:\",seed)\n",
    "    torch.manual_seed(seed)    \n",
    "    torch.cuda.empty_cache()    \n",
    "    for n in Ns:        \n",
    "        print(\"\\n\\n\\nn =\", len(datasets[n]['train']))\n",
    "        path = f\"torch_models/cnn_n_{n}_seed_{seed}.pkl\"\n",
    "        model = CNN(len(responses), device=\"cuda\")\n",
    "        if train:            \n",
    "            model = train_model(model, datasets[n]['train'], datasets[n]['test'], batch_size=2048)\n",
    "            torch.save(model.state_dict(), path)\n",
    "            print(f'Saved model to \"{path}\"')\n",
    "        else:            \n",
    "            model.load(path)\n",
    "        fitted_models[n].append(model)"
   ]
  },
  {
   "cell_type": "markdown",
   "metadata": {},
   "source": [
    "### Compute MAE"
   ]
  },
  {
   "cell_type": "code",
   "execution_count": 14,
   "metadata": {},
   "outputs": [],
   "source": [
    "def denormalize(x,n):\n",
    "    means = datasets[n]['train'].mean_labels[0][0]\n",
    "    stds = datasets[n]['train'].std_labels[0][0]\n",
    "    return stds * x + means\n",
    "    "
   ]
  },
  {
   "cell_type": "code",
   "execution_count": 15,
   "metadata": {},
   "outputs": [],
   "source": [
    "MAEs = np.zeros((len(Ns), len(datasets[Ns[0]]), len(seeds)))\n",
    "dataset_names = datasets[Ns[0]].keys()\n",
    "indices = dict(zip(dataset_names, np.arange(len(dataset_names))))\n",
    "with torch.no_grad():    \n",
    "    for i,n in enumerate(Ns):        \n",
    "        for key,dataset in datasets[n].items():\n",
    "            for k,model in enumerate(fitted_models[n]):\n",
    "                impulses, truths = next(iter(DataLoader(dataset, batch_size=len(dataset))))\n",
    "                truths = denormalize(truths.numpy(), n)            \n",
    "                pred = model(impulses).detach().cpu().numpy()\n",
    "                pred = denormalize(pred,n)            \n",
    "                mae = (abs(pred - truths)).sum() / len(dataset)            \n",
    "                MAEs[i,indices[key],k] = mae"
   ]
  },
  {
   "cell_type": "code",
   "execution_count": 16,
   "metadata": {},
   "outputs": [
    {
     "name": "stdout",
     "output_type": "stream",
     "text": [
      "[63.16       63.71511111 62.895     ]\n"
     ]
    }
   ],
   "source": [
    "MAEs_mean = np.zeros((len(Ns), len(datasets[Ns[0]]), len(seeds)))\n",
    "# Compute mean of training dataset\n",
    "mean = df_train.mean().values\n",
    "for i,n in enumerate(Ns):            \n",
    "    print(mean)\n",
    "    for key,dataset in datasets[n].items():\n",
    "        for k,model in enumerate(fitted_models[n]):\n",
    "            impulses, truths = next(iter(DataLoader(dataset, batch_size=len(dataset))))\n",
    "            truths = denormalize(truths.numpy(), n)            \n",
    "            pred = mean            \n",
    "            mae = (abs(pred - truths)).sum() / len(dataset)            \n",
    "            MAEs_mean[i,indices[key],k] = mae"
   ]
  },
  {
   "cell_type": "code",
   "execution_count": 17,
   "metadata": {},
   "outputs": [
    {
     "data": {
      "image/png": "[encoded data removed]",
      "text/plain": [
       "<Figure size 220x220 with 1 Axes>"
      ]
     },
     "metadata": {},
     "output_type": "display_data"
    }
   ],
   "source": [
    "# Taken from https://python-graph-gallery.com/391-radar-chart-with-several-individuals/\n",
    "mmax = 300\n",
    "\n",
    "plt.figure(figsize=(2.2,2.2))\n",
    "\n",
    "def t(x):\n",
    "    return x\n",
    "    return np.power(x, 1/3)\n",
    "    \n",
    "# ------- PART 1: Create background\n",
    " \n",
    "# number of variables\n",
    "\n",
    "labels = {'validate': 'in-distribution',\n",
    "          'pol_1_90': r'$\\theta_1$',\n",
    "          'iso_1000.0': r'$\\text{ISO}$',\n",
    "          'aperture_11.0': r'$\\text{Ap}$',\n",
    "          'bright_colors': r'$R,G,B$',\n",
    "          'shutter_speed_0.001': r'$T_\\text{Im}$',\n",
    "         }\n",
    "categories=[name for _,name in enumerate(dataset_names) if name not in ['test', 'train']]\n",
    "categories = [labels[c] for c in categories]\n",
    "N = len(categories)\n",
    " \n",
    "# What will be the angle of each axis in the plot? (we divide the plot / number of variable)\n",
    "angles = [n / float(N) * 2 * np.pi for n in range(N)]\n",
    "angles += angles[:1]\n",
    " \n",
    "# Initialise the spider plot\n",
    "ax = plt.subplot(111, polar=True)\n",
    " \n",
    "# If you want the first axis to be on top:\n",
    "ax.set_theta_offset(np.pi / 2)\n",
    "ax.set_theta_direction(-1)\n",
    " \n",
    "# Draw one axe per variable + add labels\n",
    "plt.xticks(angles[:-1], categories)\n",
    " \n",
    "# Draw ylabels\n",
    "ax.set_rlabel_position(0)\n",
    "yticks = np.linspace(0,mmax,8)\n",
    "plt.yticks(t(yticks), [])\n",
    "plt.ylim(0,t(mmax))\n",
    " \n",
    "\n",
    "# ------- PART 2: Add plots\n",
    " \n",
    "# Plot each individual = each line of the data\n",
    "\n",
    "# CNN\n",
    "j = 0\n",
    "n = Ns[j]\n",
    "mean = t(MAEs[j,2:,:].mean(axis=1))\n",
    "mean = np.array(list(mean) + [mean[0]])\n",
    "std = t(MAEs[j,2:,:].std(axis=1))\n",
    "std = np.array(list(std) + [std[0]])\n",
    "i=4\n",
    "ax.plot(angles, mean, linewidth=1, linestyle='solid', color = base[i], label = \"CNN\")\n",
    "ax.plot(angles, mean+std, linewidth=0.1, linestyle='-', color = base[i])\n",
    "ax.plot(angles, mean-std, linewidth=0.1, linestyle='-', color = base[i])\n",
    "#ax.fill(angles, values, color=base[i]*np.array([1,1,1,0.2]))\n",
    "ax.fill_between(angles, mean+std, np.maximum(0,mean-std), color=base[i]*np.array([1,1,1,0.2]),label = \"$\\quad \\pm$ 1 std.\")\n",
    "\n",
    "# Reg. to the mean\n",
    "mean = t(MAEs_mean[j,2:,:].mean(axis=1))\n",
    "mean = np.array(list(mean) + [mean[0]])\n",
    "std = t(MAEs_mean[j,2:,:].std(axis=1))\n",
    "std = np.array(list(std) + [std[0]])\n",
    "i=5\n",
    "ax.plot(angles, mean, linewidth=1, linestyle='--', color = base[i], label = \"Reg. to mean\")\n",
    "#ax.fill(angles, values, color=base[i]*np.array([1,1,1,0.2]))\n",
    "#ax.fill_between(angles, mean+std, np.maximum(0,mean-std), color=base[i]*np.array([1,1,1,0.2]),label = \"$\\pm$ 1 std.\")\n",
    "\n",
    "legend = plt.legend(loc='lower left', bbox_to_anchor=(1.2, -0.1), title=\"Avg. MAE (16 random seeds)\")\n",
    "\n",
    "# Show the graph\n",
    "plt.savefig(f\"../figures/image_regression_n_{n}.pdf\", bbox_inches=\"tight\", transparent=\"True\")"
   ]
  },
  {
   "cell_type": "markdown",
   "metadata": {},
   "source": [
    "#### By hand on the validation dataset"
   ]
  },
  {
   "cell_type": "code",
   "execution_count": 18,
   "metadata": {},
   "outputs": [],
   "source": [
    "n = 9000\n",
    "#iterator = iter(DataLoader(datasets[n]['lt_color_regression_iso_1000.0'], batch_size=1))\n",
    "#iterator = iter(DataLoader(datasets[n]['bright_colors'], batch_size=1))\n",
    "#iterator = iter(DataLoader(datasets[n]['pol_1_90'], batch_size=1))\n",
    "iterator = iter(DataLoader(datasets[n]['iso_1000.0'], batch_size=1))\n",
    "#iterator = iter(DataLoader(datasets[n]['validate'], batch_size=1))\n",
    "i = 0"
   ]
  },
  {
   "cell_type": "code",
   "execution_count": 19,
   "metadata": {},
   "outputs": [],
   "source": [
    "model = fitted_models[n][0]"
   ]
  },
  {
   "cell_type": "code",
   "execution_count": 20,
   "metadata": {},
   "outputs": [
    {
     "data": {
      "image/png": "[encoded data removed]",
      "text/plain": [
       "<Figure size 1600x800 with 3 Axes>"
      ]
     },
     "metadata": {},
     "output_type": "display_data"
    }
   ],
   "source": [
    "with torch.no_grad():\n",
    "    image, Y = next(iterator)    \n",
    "    \n",
    "    obs = denormalize(Y.numpy()[0],n)\n",
    "    obs = pd.Series(obs, index=['red', 'green', 'blue'])    \n",
    "    \n",
    "    pred = model(image).detach().cpu()    \n",
    "    pred = denormalize(pred.numpy()[0],n)\n",
    "    pred = pd.Series(pred, index=['red', 'green', 'blue'])\n",
    "\n",
    "    image = image.numpy()[0]\n",
    "    image = np.transpose(image, (1,2,0))\n",
    "    plt.figure(figsize=(16,8))\n",
    "\n",
    "    plt.subplot(131)\n",
    "    plt.imshow((image+1)/2)\n",
    "\n",
    "    plt.subplot(132)\n",
    "    color = np.ones_like(image, dtype=float)\n",
    "    color[:,:,0] *= obs.red/255\n",
    "    color[:,:,1] *= obs.green/255\n",
    "    color[:,:,2] *= obs.blue/255\n",
    "    plt.imshow(color)\n",
    "    plt.title(f\"Label: r={obs.red:0.1f} g={obs.green:0.1f} b={obs.blue:0.1f}\")\n",
    "\n",
    "    plt.subplot(133)\n",
    "    color = np.ones_like(image, dtype=float)\n",
    "    color[:,:,0] *= pred.red/255\n",
    "    color[:,:,1] *= pred.green/255\n",
    "    color[:,:,2] *= pred.blue/255\n",
    "    plt.imshow(color)\n",
    "    plt.title(f\"Prediction: r={pred.red:0.1f} g={pred.green:0.1f} b={pred.blue:0.1f}\")\n",
    "\n",
    "    i += 1"
   ]
  },
  {
   "cell_type": "code",
   "execution_count": null,
   "metadata": {},
   "outputs": [],
   "source": []
  }
 ],
 "metadata": {
  "kernelspec": {
   "display_name": "Python 3 (ipykernel)",
   "language": "python",
   "name": "python3"
  },
  "language_info": {
   "codemirror_mode": {
    "name": "ipython",
    "version": 3
   },
   "file_extension": ".py",
   "mimetype": "text/x-python",
   "name": "python",
   "nbconvert_exporter": "python",
   "pygments_lexer": "ipython3",
   "version": "3.10.12"
  }
 },
 "nbformat": 4,
 "nbformat_minor": 4
}
